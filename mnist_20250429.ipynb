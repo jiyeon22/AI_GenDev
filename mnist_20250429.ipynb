{
 "cells": [
  {
   "cell_type": "markdown",
   "id": "72889cc5",
   "metadata": {},
   "source": [
    "# 🧠 초급 딥러닝 실습 미션: MNIST 손글씨 숫자 인식기 직접 구현"
   ]
  },
  {
   "cell_type": "markdown",
   "id": "158ef8eb",
   "metadata": {},
   "source": [
    "\n",
    "### 🎯 학습 목표\n",
    "- 신경망의 기본 구조 이해 (입력층-은닉층-출력층)\n",
    "- NumPy 기반 행렬 내적 연산 이해\n",
    "- 활성화 함수 (ReLU, sigmoid, softmax) 구현 능력 배양\n",
    "- 사전 학습된 가중치를 사용한 추론 (inference) 수행\n",
    "- MNIST 손글씨 숫자 데이터셋의 이해 및 시각화\n"
   ]
  },
  {
   "cell_type": "markdown",
   "id": "1df79563",
   "metadata": {},
   "source": [
    "## 문제 1. 활성화 함수 구현"
   ]
  },
  {
   "cell_type": "code",
   "execution_count": 2,
   "id": "eead912e",
   "metadata": {},
   "outputs": [],
   "source": [
    "\n",
    "import numpy as np\n",
    "\n",
    "def sigmoid(x):\n",
    "    return 1 / (1 + np.exp(-x))\n",
    "\n",
    "\n",
    "def relu(x):\n",
    "    return np.maximum(0, x)\n",
    "   \n",
    "\n",
    "def softmax(x):\n",
    "    c = np.max(x)\n",
    "    exp_x = np.exp(x - c) #overflow방지 \n",
    "    sum_exp_x = np.sum(exp_x)\n",
    "    y = exp_x / sum_exp_x\n",
    "    return y\n"
   ]
  },
  {
   "cell_type": "markdown",
   "id": "09fb040a",
   "metadata": {},
   "source": [
    "## 문제 2. 순전파 함수 구현\n",
    "\n",
    "다음은 입력값 x에 대해 각 레이어에서 수행할 순전파(forward propagation) 연산입니다.\n",
    "다층 퍼셉트론(MLP) 모델로, 총 3개의 레이어를 구성합니다."
   ]
  },
  {
   "cell_type": "code",
   "execution_count": 3,
   "id": "09cc207b",
   "metadata": {},
   "outputs": [],
   "source": [
    "\n",
    "def forward(x, weights):\n",
    "    W1, b1 = weights['W1'], weights['b1']\n",
    "    W2, b2 = weights['W2'], weights['b2']\n",
    "    W3, b3 = weights['W3'], weights['b3']\n",
    "    \n",
    "    z1 = np.dot(x, W1) + b1\n",
    "    a1 = relu(z1)\n",
    "    \n",
    "    z2 = np.dot(a1, W2) + b2\n",
    "    a2 = relu(z2)\n",
    "    \n",
    "    z3 = np.dot(a2, W3) + b3\n",
    "    y = softmax(z3)\n",
    "    \n",
    "    return y\n"
   ]
  },
  {
   "cell_type": "markdown",
   "id": "3a6e4eb2",
   "metadata": {},
   "source": [
    "## 문제 3. 학습된 가중치 불러오기"
   ]
  },
  {
   "cell_type": "code",
   "execution_count": 7,
   "id": "17d8e24f",
   "metadata": {},
   "outputs": [
    {
     "name": "stdout",
     "output_type": "stream",
     "text": [
      "['W1', 'b1', 'W2', 'b2', 'W3', 'b3']\n"
     ]
    }
   ],
   "source": [
    "\n",
    "# weights.npz 파일이 있는 경로에 맞춰 조정 필요\n",
    "weights_npz = np.load('/Users/jiyeonpark/Downloads/weights.npz')\n",
    "print(weights_npz.files) # 확인 \n",
    "\n",
    "weights = {\n",
    "    'W1' : weights_npz['W1'],\n",
    "    'b1' : weights_npz['b1'],\n",
    "    'W2' : weights_npz['W2'],\n",
    "    'b2' : weights_npz['b2'],\n",
    "    'W3' : weights_npz['W3'],\n",
    "    'b3' : weights_npz['b3'],   \n",
    "}"
   ]
  },
  {
   "cell_type": "markdown",
   "id": "4e7dbf65",
   "metadata": {},
   "source": [
    "## 문제 4. 테스트 데이터셋 불러오기 및 전처리\n",
    "\n",
    "MNIST 테스트 데이터셋을 불러오고, 각 이미지를 (784,) 벡터로 정규화하세요.\n",
    "이미지 10장을 선택하여 예측 결과를 시각화하세요 (matplotlib 사용)."
   ]
  },
  {
   "cell_type": "code",
   "execution_count": 8,
   "id": "72dd5a13",
   "metadata": {},
   "outputs": [
    {
     "name": "stdout",
     "output_type": "stream",
     "text": [
      "X=[[0 0 0 ... 0 0 0]\n",
      " [0 0 0 ... 0 0 0]\n",
      " [0 0 0 ... 0 0 0]\n",
      " ...\n",
      " [0 0 0 ... 0 0 0]\n",
      " [0 0 0 ... 0 0 0]\n",
      " [0 0 0 ... 0 0 0]]\n",
      "y=['5' '0' '4' ... '4' '5' '6']\n",
      "X_train=[[0. 0. 0. ... 0. 0. 0.]\n",
      " [0. 0. 0. ... 0. 0. 0.]\n",
      " [0. 0. 0. ... 0. 0. 0.]\n",
      " ...\n",
      " [0. 0. 0. ... 0. 0. 0.]\n",
      " [0. 0. 0. ... 0. 0. 0.]\n",
      " [0. 0. 0. ... 0. 0. 0.]]\n"
     ]
    },
    {
     "data": {
      "image/png": "[encoded data removed]",
      "text/plain": [
       "<Figure size 1200x500 with 10 Axes>"
      ]
     },
     "metadata": {},
     "output_type": "display_data"
    }
   ],
   "source": [
    "\n",
    "from sklearn.datasets import fetch_openml\n",
    "import numpy as np\n",
    "import matplotlib.pyplot as plt\n",
    "\n",
    "# MNIST 데이터셋 불러오기\n",
    "mnist = fetch_openml('mnist_784', as_frame=False)\n",
    "\n",
    "X, y = mnist.data, mnist.target\n",
    "print(f\"X={X}\")\n",
    "print(f\"y={y}\")\n",
    "y = y.astype(np.uint8)\n",
    "\n",
    "# 훈련/테스트 데이터 분리 및 정규화\n",
    "X_train, X_test = X[:60000] / 255.0, X[60000:] / 255.0\n",
    "y_train, y_test = y[:60000], y[60000:]\n",
    "\n",
    "print(f\"X_train={X_train}\")\n",
    "\n",
    "\n",
    "#10개 이미지 선택\n",
    "num_images = 10\n",
    "selected_images = X_test[:num_images] # (10, 784)\n",
    "selected_labels = y_test[:num_images]\n",
    "\n",
    "# 예측\n",
    "outputs = []\n",
    "for img in selected_images:\n",
    "    out = forward(img, weights)\n",
    "    pred = np.argmax(out)  # 가장 높은 점수 = 예측된 숫자 / 가장 큰 값을 가진 요소의 인덱스를 반환.\n",
    "    #즉, 가장 높은 확률인 것을 뽑는 것 \n",
    "    outputs.append(pred)\n",
    "\n",
    "# 8. 시각화\n",
    "plt.figure(figsize=(12, 5))\n",
    "for i in range(num_images):\n",
    "    plt.subplot(2, 5, i+1) #2행 5열 \n",
    "    plt.imshow(selected_images[i].reshape(28, 28), cmap='gray')\n",
    "    plt.title(f\"Pred: {outputs[i]}\")\n",
    "    plt.axis('off')\n",
    "\n",
    "plt.tight_layout()\n",
    "plt.show()"
   ]
  },
  {
   "cell_type": "markdown",
   "id": "516cd1bb",
   "metadata": {},
   "source": [
    "## 개념정리\n",
    "**👉 mnist = fetch_openml('mnist_784', as_frame = False)**\n",
    "- fetch_openml() : 사이킷런에서 데이터 셋을 다운로드 하는 함수 \n",
    "- mnist_784 : OpenML에 등록된 MNIST 손글씨 숫자 데이터셋 이름\n",
    "- as_frame = False: 데이터를 판다스 df가 아닌 넘파이 배열로 가져오겠다! \n",
    "- mnist는 data와 target이라는 속성을 가진 객체가 된다! "
   ]
  },
  {
   "cell_type": "markdown",
   "id": "0178bb75",
   "metadata": {},
   "source": [
    "## 문제 5. 예측 실행 및 정확도 계산"
   ]
  },
  {
   "cell_type": "code",
   "execution_count": 9,
   "id": "fa47a7a5",
   "metadata": {},
   "outputs": [
    {
     "name": "stdout",
     "output_type": "stream",
     "text": [
      "Accuracy: 0.98\n"
     ]
    }
   ],
   "source": [
    "\n",
    "preds = []\n",
    "for x in X_test[:100]:\n",
    "    y = forward(x, weights)\n",
    "    pred = np.argmax(y)\n",
    "    preds.append(pred)\n",
    "\n",
    "acc = np.mean(np.array(preds) == y_test[:100])\n",
    "print(f\"Accuracy: {acc:.2f}\")\n"
   ]
  },
  {
   "cell_type": "markdown",
   "id": "e1c58aa6",
   "metadata": {},
   "source": [
    "## 🎁 보너스 문제: 다른 활성화 함수 비교"
   ]
  },
  {
   "cell_type": "code",
   "execution_count": 20,
   "id": "82d74d99",
   "metadata": {},
   "outputs": [
    {
     "name": "stdout",
     "output_type": "stream",
     "text": [
      "[Sigmoid 사용] Accuracy: 0.17\n"
     ]
    }
   ],
   "source": [
    "\n",
    "def forward_with_sigmoid(x, weights):\n",
    "    W1, b1 = weights['W1'], weights['b1']\n",
    "    W2, b2 = weights['W2'], weights['b2']\n",
    "    W3, b3 = weights['W3'], weights['b3']\n",
    "    \n",
    "    z1 = np.dot(x, W1) + b1\n",
    "    a1 = sigmoid(z1)\n",
    "    \n",
    "    z2 = np.dot(a1, W2) + b2\n",
    "    a2 = sigmoid(z2)\n",
    "    \n",
    "    z3 = np.dot(a2, W3) + b3\n",
    "    y = softmax(z3)\n",
    "    \n",
    "    return y\n",
    "\n",
    "preds_sigmoid = []\n",
    "for x in X_test[:100]:\n",
    "    y = forward_with_sigmoid(x, weights)\n",
    "    pred = np.argmax(y)\n",
    "    preds_sigmoid.append(pred)\n",
    "\n",
    "acc_sigmoid = np.mean(np.array(preds_sigmoid) == y_test[:100])\n",
    "print(f\"[Sigmoid 사용] Accuracy: {acc_sigmoid:.2f}\")\n"
   ]
  }
 ],
 "metadata": {
  "kernelspec": {
   "display_name": "base",
   "language": "python",
   "name": "python3"
  },
  "language_info": {
   "codemirror_mode": {
    "name": "ipython",
    "version": 3
   },
   "file_extension": ".py",
   "mimetype": "text/x-python",
   "name": "python",
   "nbconvert_exporter": "python",
   "pygments_lexer": "ipython3",
   "version": "3.12.2"
  }
 },
 "nbformat": 4,
 "nbformat_minor": 5
}
