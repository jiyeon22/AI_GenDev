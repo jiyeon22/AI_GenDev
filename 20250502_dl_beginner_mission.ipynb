{
 "cells": [
  {
   "cell_type": "markdown",
   "id": "65e5750f",
   "metadata": {},
   "source": [
    "\n",
    "# 초급 딥러닝 미션: \"인공지능 마법사의 첫 번째 신경망\"\n",
    "\n",
    "## 🎯 학습 목표\n",
    "- 딥러닝 및 파이토치 기본 개념 이해\n",
    "- 텐서 생성 및 조작\n",
    "- `nn.Module` 기반 모델 작성\n",
    "- 시퀀셜 모델 구성\n",
    "- 손실함수, 옵티마이저, 학습 루프 직접 구현\n",
    "- 정확도 등 메트릭 계산 및 시각화\n"
   ]
  },
  {
   "cell_type": "markdown",
   "id": "56453caf",
   "metadata": {},
   "source": [
    "\n",
    "## 📂 사용 데이터셋\n",
    "**MNIST 손글씨 숫자 이미지** (10개 숫자 분류, 흑백 이미지)  \n",
    "👉 `torchvision.datasets.MNIST`에서 자동 다운로드 가능\n"
   ]
  },
  {
   "cell_type": "markdown",
   "id": "058f8d07",
   "metadata": {},
   "source": [
    "\n",
    "## 🧩 미션 구성\n",
    "\n",
    "### Part 1. 딥러닝과 파이토치 개요  \n",
    "❓ 문제 1  \n",
    "**딥러닝이 머신러닝과 다른 점은 무엇인가요?**  \n",
    "✔️ 정답: 딥러닝은 다층 신경망을 활용해 많은 양의 데이터로부터 자동으로 특징을 학습하며, 이미지 분류나 음성 인식처럼 비선형성이\n",
    "강한 문제에서 높은 성능을 발휘한다. 머신 러닝은 사람이 직접 특징을 추출하거나 선택한다. 적은 데이터로도 잘 작동하고, 딥러닝처럼 깊은 신경망을 사용하지 않는다. 또한 정형 데이터에 강하다. \n",
    "\n",
    "❓ 문제 2  \n",
    "**파이토치의 핵심 구성 요소 3가지를 쓰세요.**  \n",
    "✔️ 정답 : \n",
    "- 텐서(tensor): 데이터를 표현하는 기본 단위\n",
    "- 연산그래프/자동미분(Autograd) : 역전파를 위한 미분 계산\n",
    "- 모듈(nn.Module) : 신경망 모델을 구성하는 기본 단위 \n"
   ]
  },
  {
   "cell_type": "markdown",
   "id": "8c5b2f78",
   "metadata": {},
   "source": [
    "\n",
    "### Part 2. 텐서 연산 실습  \n",
    "🔧 실습 문제 3  \n",
    "아래 조건에 맞는 텐서를 생성하세요:  \n",
    "- 3x3 크기의 정규분포 난수 텐서\n",
    "- 모든 원소에 대해 ReLU 함수를 적용한 텐서\n",
    "\n",
    "힌트: `torch.randn`, `torch.relu`\n"
   ]
  },
  {
   "cell_type": "code",
   "execution_count": 1,
   "id": "622f5f2d",
   "metadata": {},
   "outputs": [
    {
     "name": "stdout",
     "output_type": "stream",
     "text": [
      "tensor([[0.0635, 0.5647, 0.0000],\n",
      "        [0.0000, 0.0000, 0.0000],\n",
      "        [0.0000, 0.0000, 0.7266]])\n"
     ]
    }
   ],
   "source": [
    "import torch\n",
    "\n",
    "x = torch.randn(3, 3)\n",
    "x_relu = torch.relu(x)\n",
    "print(x_relu)"
   ]
  },
  {
   "cell_type": "markdown",
   "id": "82769594",
   "metadata": {},
   "source": [
    "\n",
    "### Part 3. 신경망 직접 만들기  \n",
    "🔧 실습 문제 4  \n",
    "다음과 같은 신경망을 `nn.Module` 클래스를 상속받아 구현하세요:\n",
    "\n",
    "- 입력: 28×28 이미지 → 784차원\n",
    "- 은닉층: 128개 뉴런, 활성화 함수 ReLU\n",
    "- 출력층: 10개 뉴런, 소프트맥스\n"
   ]
  },
  {
   "cell_type": "code",
   "execution_count": 20,
   "id": "97300a29",
   "metadata": {},
   "outputs": [],
   "source": [
    "import torch.nn as nn\n",
    "\n",
    "class MyNet(nn.Module):\n",
    "    def __init__(self):\n",
    "        super(MLP, self).__init__()\n",
    "        self.fc1 = nn.Linear(784, 128)\n",
    "        self.relu = nn.ReLU()\n",
    "        self.fc2 = nn.Linear(128, 10)\n",
    "        self.softmax = nn.Softmax(dim=1)\n",
    "\n",
    "    def forward(self, x):\n",
    "        x = self.fc1(x)\n",
    "        x = self.relu()\n",
    "        x = self.fc2(x)\n",
    "        x = self.softmax(x)\n",
    "        return x"
   ]
  },
  {
   "cell_type": "markdown",
   "id": "39110a28",
   "metadata": {},
   "source": [
    "\n",
    "### Part 4. 시퀀셜 모델 구성  \n",
    "🔧 실습 문제 5  \n",
    "동일한 구조를 `nn.Sequential`을 사용하여 작성하세요.\n",
    "\n",
    "힌트: `nn.Sequential(...)`\n"
   ]
  },
  {
   "cell_type": "code",
   "execution_count": 27,
   "id": "ff07bda8",
   "metadata": {},
   "outputs": [],
   "source": [
    "class MyNet(nn.Module):\n",
    "    def __init__(self):\n",
    "        super(MyNet, self).__init__()\n",
    "        self.model = nn.Sequential(\n",
    "            nn.Linear(784, 128),\n",
    "            nn.ReLU(),\n",
    "            nn.Linear(128, 10),\n",
    "            nn.Softmax(dim=1)\n",
    "        )\n",
    "\n",
    "    def forward(self, x):\n",
    "        x = x.view(-1, 28*28)\n",
    "        return self.model(x)\n",
    "        \n"
   ]
  },
  {
   "cell_type": "markdown",
   "id": "d895ff92",
   "metadata": {},
   "source": [
    "\n",
    "### Part 5. 손실함수와 옵티마이저  \n",
    "🔧 실습 문제 6  \n",
    "다음 코드에서 손실함수와 옵티마이저를 정의하세요:\n",
    "\n",
    "```python\n",
    "model = MyNet()\n",
    "# 손실 함수 정의\n",
    "# 옵티마이저 정의\n",
    "```\n",
    "\n",
    "요구사항:\n",
    "- 손실 함수: `CrossEntropyLoss`(다중 클래스 분류)\n",
    "- 옵티마이저: `SGD`, 학습률 0.01 : 데이터와 손실함수를 바탕으로 모델의 업데이트 방법 결정.\n"
   ]
  },
  {
   "cell_type": "code",
   "execution_count": 28,
   "id": "c253848d",
   "metadata": {},
   "outputs": [],
   "source": [
    "import torch.nn as nn\n",
    "import torch.optim as optim \n",
    "#옵티마이저란? 데이터와 손실함수를 바탕으로 모델의 업데이트 방법을 결정하는것.\n",
    "\n",
    "model = MyNet()\n",
    "\n",
    "criterion = nn.CrossEntropyLoss()\n",
    "\n",
    "optimizer = optim.SGD(model.parameters(), lr = 0.01)"
   ]
  },
  {
   "cell_type": "markdown",
   "id": "8b400a00",
   "metadata": {},
   "source": [
    "\n",
    "### Part 6. 데이터셋 및 데이터로더  \n",
    "🔧 실습 문제 7  \n",
    "`torchvision.datasets.MNIST`를 사용하여 학습 및 검증 데이터를 불러오고, `DataLoader`를 사용하여 배치 사이즈 64로 나누세요.\n"
   ]
  },
  {
   "cell_type": "code",
   "execution_count": 29,
   "id": "664343fd",
   "metadata": {},
   "outputs": [],
   "source": [
    "import torch\n",
    "from torchvision import datasets, transforms\n",
    "from torch.utils.data import DataLoader\n",
    "\n",
    "#1. 전처리 (Transform)정의 \n",
    "transform = transforms.Compose([\n",
    "    transforms.ToTensor(), #[0, 255] -> [0,0, 1.0]/ 파이토치 텐서로 변환 및 픽셀 값 범위를 정규화 \n",
    "    transforms.Normalize((0.5,), (1.0,)) #평균, 표준편차 정의 / (input-mean)/std\n",
    "])\n",
    "#compose? 이미지 전처리 과정을 순서대로 묶어주는 파이프라인. \n",
    "#2.학습 데이터셋 로드 \n",
    "train_dataset = datasets.MNIST(\n",
    "    root='/Users/jiyeonpark/mnist_data',\n",
    "    train = True, \n",
    "    transform = transform, \n",
    "    download=True\n",
    ")\n",
    "\n",
    "#3. 검증(테스트)데이터 셋 로드 \n",
    "test_dataset = datasets.MNIST(\n",
    "    root = '/Users/jiyeonpark/mnist_data',\n",
    "    train = False,\n",
    "    transform = transform\n",
    ")\n",
    "\n",
    "#4.DataLoader로 나누기 (배치 사이즈 64)\n",
    "train_loader = DataLoader(train_dataset, batch_size = 64, shuffle = True)\n",
    "test_loader = DataLoader(test_dataset, batch_size = 64, shuffle = False)"
   ]
  },
  {
   "cell_type": "markdown",
   "id": "60a22e83",
   "metadata": {},
   "source": [
    "\n",
    "### Part 7. 학습 루프 구현하기  \n",
    "🔧 실습 문제 8  \n",
    "기본적인 학습 루프를 구현하세요. 다음을 포함해야 합니다:\n",
    "- 배치 단위 데이터 가져오기\n",
    "- 예측값 계산 (`model(x)`)\n",
    "- 손실 계산 및 역전파\n",
    "- 파라미터 업데이트\n"
   ]
  },
  {
   "cell_type": "code",
   "execution_count": 30,
   "id": "dd5711b4",
   "metadata": {},
   "outputs": [],
   "source": [
    "def train_model(model, train_loader, criterion, optimizer, epochs = 5):\n",
    "    model.train()\n",
    "    for epoch in range(epochs):\n",
    "        running_loss = 0\n",
    "        for images, label in train_loader:\n",
    "            optimizer.zero_grad()\n",
    "            ouputs = model(images)\n",
    "            loss = criterion(outputs, labels)\n",
    "            loss.backward()\n",
    "            optimizer.step()\n",
    "            running_loss += loss.item()\n",
    "        print(f\"Epoch {epoch+1}, Loss: {running_loss/len(train_loader):.4f}\")\n",
    "\n",
    "\n",
    "        #파라미터(w,b)를 업데이트 하기 위해 3가지 단계  필요!\n",
    "        #1.기울기 초기화 optimizer.zero_grad()\n",
    "        #2.손실을 기준으로 역전파 loss.backward()\n",
    "        #3.파라미터 업데이트 optimizer.step() \n",
    "\n",
    "  \n"
   ]
  },
  {
   "cell_type": "markdown",
   "id": "c19afcdd",
   "metadata": {},
   "source": [
    "\n",
    "### Part 8. 정확도(Accuracy) 계산  \n",
    "🔧 실습 문제 9  \n",
    "모델이 얼마나 잘 맞췄는지 정확도를 직접 계산하는 함수를 작성하세요.\n"
   ]
  },
  {
   "cell_type": "code",
   "execution_count": 31,
   "id": "d4bd1cbf",
   "metadata": {},
   "outputs": [],
   "source": [
    "def evaluate_accuracy(model, data_loader): #모델과 데이터로더를 받아서 , 해당 데이터셋에 대한 정확도를 계산!! \n",
    "    model.eval() #모델을 평가 모드로 전환 \n",
    "    correct = 0  #맞춘 정답 개수 누적  \n",
    "    total = 0 #전체 이미지 수 누적\n",
    "    with torch.no_grad(): #기울기 계산 비활성화 -> 메모리 사용줄이고, 연산 속도 증가/ 평가시에는 기울기 계산 활성화하는게 좋음 \n",
    "        for images, labels in data_loader: #배치단위로 반복 \n",
    "            outputs = model(images) #예측값 계산 \n",
    "            _, predicted = torch.max(outputs, 1) #각행에서 가장 큰값과, 그 인덱스를 반환/_뜻? 실제값은 필요없고, 예측한 클래스 번호(Index)만 필요하니까 버린거임\n",
    "            total += labels.size(0) #현재 배치의 샘플 수 \n",
    "            correct += (predicted == labels).sum().item() #.item() -> 파이토치 텐서를 숫자로 변환 \n",
    "    return correct / total"
   ]
  },
  {
   "cell_type": "markdown",
   "id": "0aa821ee",
   "metadata": {},
   "source": [
    "\n",
    "### Part 9. 학습 과정 시각화  \n",
    "🔧 실습 문제 10  \n",
    "에폭별 손실값을 저장하고 `matplotlib`을 이용해 학습 곡선을 시각화하세요.\n"
   ]
  },
  {
   "cell_type": "code",
   "execution_count": 33,
   "id": "5a28adaa",
   "metadata": {},
   "outputs": [
    {
     "name": "stdout",
     "output_type": "stream",
     "text": [
      "Epoch 1 Loss: 2.2831\n",
      "Epoch 2 Loss: 2.1747\n",
      "Epoch 3 Loss: 2.0141\n",
      "Epoch 4 Loss: 1.8932\n",
      "Epoch 5 Loss: 1.8401\n"
     ]
    },
    {
     "data": {
      "image/png": "[encoded data removed]",
      "text/plain": [
       "<Figure size 640x480 with 1 Axes>"
      ]
     },
     "metadata": {},
     "output_type": "display_data"
    }
   ],
   "source": [
    "import matplotlib.pyplot as plt\n",
    "import matplotlib.font_manager as fm\n",
    "\n",
    "# 한글 폰트 설정 (예: 맑은 고딕)\n",
    "plt.rcParams['font.family'] = 'AppleGothic'  # macOS인 경우\n",
    "# plt.rcParams['font.family'] = 'NanumGothic'  # 설치했을 때\n",
    "# plt.rcParams['font.family'] = 'Malgun Gothic'  # Windows\n",
    "\n",
    "# 마이너스 깨짐 방지\n",
    "plt.rcParams['axes.unicode_minus'] = False\n",
    "\n",
    "model = MyNet()\n",
    "optimizer = torch.optim.SGD(model.parameters(), lr=0.01)\n",
    "criterion = nn.CrossEntropyLoss()\n",
    "losses = []\n",
    "\n",
    "model.train()\n",
    "for epoch in range(5):\n",
    "    running_loss = 0.0\n",
    "    for images, labels in train_loader:\n",
    "        optimizer.zero_grad()\n",
    "        outputs = model(images)\n",
    "        loss = criterion(outputs, labels)\n",
    "        loss.backward()\n",
    "        optimizer.step()\n",
    "        running_loss += loss.item()\n",
    "    avg_loss = running_loss / len(train_loader)\n",
    "    losses.append(avg_loss)\n",
    "    print(f\"Epoch {epoch+1} Loss: {avg_loss:.4f}\")\n",
    "\n",
    "plt.plot(losses)\n",
    "plt.xlabel(\"Epoch\")\n",
    "plt.ylabel(\"Loss\")\n",
    "plt.title(\"학습 손실 곡선\")\n",
    "plt.show()\n"
   ]
  },
  {
   "cell_type": "markdown",
   "id": "ab27a56c",
   "metadata": {},
   "source": [
    "\n",
    "## 🎁 보너스 미션  \n",
    "- `nn.Module`과 `nn.Sequential` 방식의 모델을 비교  \n",
    "- 옵티마이저를 Adam으로 바꾸고 학습 결과 비교  \n",
    "- 은닉층 크기를 256으로 변경하여 과적합 여부 확인\n"
   ]
  },
  {
   "cell_type": "markdown",
   "id": "c1f0634b",
   "metadata": {},
   "source": [
    "## 🎯 보너스 문제 1: `nn.Module` vs `nn.Sequential` 모델을 예시를 들어 비교하시오."
   ]
  },
  {
   "cell_type": "markdown",
   "id": "e56e02e0",
   "metadata": {},
   "source": [
    "## 🎯 보너스 문제 2: Optimizer SGD vs Adam 비교"
   ]
  },
  {
   "cell_type": "markdown",
   "id": "d8cbd191",
   "metadata": {},
   "source": [
    "## 🎯 보너스 문제 3: 은닉층 크기 변경 (128 → 256)"
   ]
  }
 ],
 "metadata": {
  "kernelspec": {
   "display_name": "torch_m1",
   "language": "python",
   "name": "python3"
  },
  "language_info": {
   "codemirror_mode": {
    "name": "ipython",
    "version": 3
   },
   "file_extension": ".py",
   "mimetype": "text/x-python",
   "name": "python",
   "nbconvert_exporter": "python",
   "pygments_lexer": "ipython3",
   "version": "3.10.16"
  }
 },
 "nbformat": 4,
 "nbformat_minor": 5
}
